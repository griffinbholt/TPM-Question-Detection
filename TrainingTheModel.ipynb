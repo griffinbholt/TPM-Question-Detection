{
 "cells": [
  {
   "cell_type": "code",
   "execution_count": 31,
   "metadata": {},
   "outputs": [],
   "source": [
    "from os import listdir, system, makedirs\n",
    "from os.path import isfile, join, exists\n",
    "\n",
    "from sklearn.model_selection import train_test_split\n",
    "from sklearn.ensemble import AdaBoostClassifier\n",
    "from sklearn.tree import DecisionTreeClassifier\n",
    "from sklearn.model_selection import GridSearchCV\n",
    "\n",
    "import scipy as sp\n",
    "import numpy as np\n",
    "import pickle"
   ]
  },
  {
   "cell_type": "code",
   "execution_count": 32,
   "metadata": {},
   "outputs": [],
   "source": [
    "PATH_TO_MTC_DATA = '/srv/mtc_data'\n",
    "PATH_TO_AUDIO = join(PATH_TO_MTC_DATA, 'tpm-f2020-project/mtc-audio-TRC')\n",
    "PATH_TO_SPLIT_AUDIO = join(PATH_TO_MTC_DATA, 'tpm-f2020-project/mtc-split-wav-files')\n",
    "\n",
    "SPLIT_AUDIO_DIR_CONVENTION = 'length-{}-period-{}'\n",
    "DATA_POINT_DIR_CONVENTION = 'starttime-{}-title-{}'\n",
    "SPLIT_AUDIO_FILE_CONVENTION = 'last-{}.wav'\n",
    "QUESTION_TRUTH_LABELS_CONVENTION = 'tpm-f2020-project/length-{}-period-{}-question_truth_labels.pkl'"
   ]
  },
  {
   "cell_type": "code",
   "execution_count": 33,
   "metadata": {},
   "outputs": [],
   "source": [
    "f = open(join(PATH_TO_MTC_DATA, 'tpm-f2020-project/data_matrix.pkl'), \"rb\")\n",
    "data_matrix = pickle.load(f)\n",
    "f.close()\n",
    "\n",
    "f = open(join(PATH_TO_MTC_DATA, 'tpm-f2020-project/labels_array.pkl'), \"rb\")\n",
    "labels_array = pickle.load(f)\n",
    "f.close()"
   ]
  },
  {
   "cell_type": "code",
   "execution_count": 34,
   "metadata": {},
   "outputs": [],
   "source": [
    "full_data_matrix = np.array(data_matrix)\n",
    "full_labels_array = np.array(labels_array)"
   ]
  },
  {
   "cell_type": "code",
   "execution_count": 37,
   "metadata": {},
   "outputs": [],
   "source": [
    "train_matrix, test_matrix, train_labels, test_labels = train_test_split(full_data_matrix, full_labels_array, test_size=0.2, random_state=42)"
   ]
  },
  {
   "cell_type": "code",
   "execution_count": null,
   "metadata": {},
   "outputs": [],
   "source": [
    "param_grid = [\n",
    "    {\n",
    "    'learning_rate': [0.25, 0.5, 0.75], \n",
    "    'base_estimator__criterion': ['gini', 'entropy'],\n",
    "    'base_estimator__max_depth': [None, 10, 15, 20]\n",
    "    }\n",
    "]\n",
    "\n",
    "ada_clf = AdaBoostClassifier(base_estimator=DecisionTreeClassifier(splitter='random'), algorithm='SAMME.R', n_estimators=200)\n",
    "grid_search_clf = GridSearchCV(ada_clf, param_grid=param_grid, cv=5, scoring='roc_auc', return_train_score=True, refit=True)\n",
    "\n",
    "grid_search_clf.fit(train_matrix, train_labels)\n",
    "\n",
    "best_model = grid_search_clf.best_estimator_\n",
    "\n",
    "f = open(join(PATH_TO_MTC_DATA, 'tpm-f2020-project/grid_search_clf.pkl'), \"wb\")\n",
    "pickle.dump(grid_search_clf,f)\n",
    "f.close()\n",
    "    \n",
    "f = open(join(PATH_TO_MTC_DATA, 'tpm-f2020-project/best_model.pkl'), \"wb\")\n",
    "pickle.dump(best_model,f)\n",
    "f.close()"
   ]
  },
  {
   "cell_type": "code",
   "execution_count": null,
   "metadata": {},
   "outputs": [],
   "source": [
    "f = open(join(PATH_TO_MTC_DATA, 'tpm-f2020-project/grid_search_clf.pkl'), \"rb\")\n",
    "grid_search_clf = pickle.load(f)\n",
    "f.close()\n",
    "    \n",
    "f = open(join(PATH_TO_MTC_DATA, 'tpm-f2020-project/best_model.pkl'), \"rb\")\n",
    "best_model = pickle.load(f)\n",
    "f.close()"
   ]
  }
 ],
 "metadata": {
  "kernelspec": {
   "display_name": "Python 3",
   "language": "python",
   "name": "python3"
  },
  "language_info": {
   "codemirror_mode": {
    "name": "ipython",
    "version": 3
   },
   "file_extension": ".py",
   "mimetype": "text/x-python",
   "name": "python",
   "nbconvert_exporter": "python",
   "pygments_lexer": "ipython3",
   "version": "3.6.10"
  }
 },
 "nbformat": 4,
 "nbformat_minor": 2
}
