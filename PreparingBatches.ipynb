{
 "cells": [
  {
   "cell_type": "code",
   "execution_count": 2,
   "metadata": {},
   "outputs": [],
   "source": [
    "from os import listdir, system, makedirs\n",
    "from os.path import isfile, join, exists\n",
    "\n",
    "import scipy as sp\n",
    "import numpy as np\n",
    "import pickle\n",
    "import random\n",
    "\n",
    "clip_length = 5000\n",
    "clip_period = 500\n",
    "\n",
    "PATH_TO_MTC_DATA = '/srv/mtc_data'\n",
    "PATH_TO_AUDIO = join(PATH_TO_MTC_DATA, 'tpm-f2020-project/mtc-audio-TRC')\n",
    "PATH_TO_SPLIT_AUDIO = join(PATH_TO_MTC_DATA, 'tpm-f2020-project/mtc-split-wav-files')\n",
    "\n",
    "SPLIT_AUDIO_DIR_CONVENTION = 'length-{}-period-{}'\n",
    "DATA_POINT_DIR_CONVENTION = 'starttime-{}-title-{}'\n",
    "SPLIT_AUDIO_FILE_CONVENTION = 'last-{}.wav'\n",
    "QUESTION_TRUTH_LABELS_CONVENTION = 'tpm-f2020-project/length-{}-period-{}-question_truth_labels.pkl'\n",
    "\n",
    "current_model_dir = join(PATH_TO_SPLIT_AUDIO, SPLIT_AUDIO_DIR_CONVENTION.format(clip_length, clip_period))\n",
    "data_point_dirs = [join(current_model_dir, data_point_dir) for data_point_dir in listdir(current_model_dir)]\n",
    "\n",
    "f = open(join(PATH_TO_MTC_DATA, QUESTION_TRUTH_LABELS_CONVENTION.format(clip_length, clip_period)), \"rb\")\n",
    "labels_dictionary = pickle.load(f)\n",
    "f.close()"
   ]
  },
  {
   "cell_type": "code",
   "execution_count": 3,
   "metadata": {},
   "outputs": [],
   "source": [
    "labels_array_orig_order = [labels_dictionary[data_point_dir] for data_point_dir in data_point_dirs]\n",
    "\n",
    "indices = [i for i in range(len(data_point_dirs))]\n",
    "random.shuffle(indices)"
   ]
  },
  {
   "cell_type": "code",
   "execution_count": 18,
   "metadata": {},
   "outputs": [],
   "source": [
    "batches_dirs = []\n",
    "batches_labels = []\n",
    "for i in range(0, len(indices), 500):\n",
    "    batch_dirs = []\n",
    "    batch_labels = []\n",
    "    for j in range(500):\n",
    "        if i + j < len(indices):\n",
    "            index = indices[i + j]\n",
    "            batch_dirs.append(data_point_dirs[index])\n",
    "            batch_labels.append(labels_array_orig_order[index])\n",
    "    batches_dirs.append(batch_dirs)\n",
    "    batches_labels.append(batch_labels)"
   ]
  },
  {
   "cell_type": "code",
   "execution_count": 19,
   "metadata": {},
   "outputs": [
    {
     "data": {
      "text/plain": [
       "104789"
      ]
     },
     "execution_count": 19,
     "metadata": {},
     "output_type": "execute_result"
    }
   ],
   "source": [
    "sum([len(batch_labels) for batch_labels in batches_labels])"
   ]
  },
  {
   "cell_type": "code",
   "execution_count": 21,
   "metadata": {},
   "outputs": [],
   "source": [
    "f = open(join(PATH_TO_MTC_DATA, 'tpm-f2020-project/batches_dirs.pkl'), \"wb\")\n",
    "pickle.dump(batches_dirs,f)\n",
    "f.close()\n",
    "\n",
    "f = open(join(PATH_TO_MTC_DATA, 'tpm-f2020-project/batches_labels.pkl'), \"wb\")\n",
    "pickle.dump(batches_labels,f)\n",
    "f.close()"
   ]
  },
  {
   "cell_type": "code",
   "execution_count": 22,
   "metadata": {},
   "outputs": [
    {
     "data": {
      "text/plain": [
       "210"
      ]
     },
     "execution_count": 22,
     "metadata": {},
     "output_type": "execute_result"
    }
   ],
   "source": [
    "len(batches_dirs)"
   ]
  },
  {
   "cell_type": "code",
   "execution_count": 23,
   "metadata": {},
   "outputs": [
    {
     "data": {
      "text/plain": [
       "210"
      ]
     },
     "execution_count": 23,
     "metadata": {},
     "output_type": "execute_result"
    }
   ],
   "source": [
    "len(batches_labels)"
   ]
  },
  {
   "cell_type": "code",
   "execution_count": 9,
   "metadata": {},
   "outputs": [
    {
     "data": {
      "text/plain": [
       "11177"
      ]
     },
     "execution_count": 9,
     "metadata": {},
     "output_type": "execute_result"
    }
   ],
   "source": [
    "(np.array(labels_array_orig_order) == True).sum()"
   ]
  },
  {
   "cell_type": "code",
   "execution_count": 8,
   "metadata": {},
   "outputs": [
    {
     "data": {
      "text/plain": [
       "104789"
      ]
     },
     "execution_count": 8,
     "metadata": {},
     "output_type": "execute_result"
    }
   ],
   "source": [
    "len(labels_array_orig_order)"
   ]
  },
  {
   "cell_type": "code",
   "execution_count": 10,
   "metadata": {},
   "outputs": [
    {
     "data": {
      "text/plain": [
       "0.1066619587933848"
      ]
     },
     "execution_count": 10,
     "metadata": {},
     "output_type": "execute_result"
    }
   ],
   "source": [
    "11177 / 104789"
   ]
  },
  {
   "cell_type": "code",
   "execution_count": null,
   "metadata": {},
   "outputs": [],
   "source": []
  }
 ],
 "metadata": {
  "kernelspec": {
   "display_name": "Python 3",
   "language": "python",
   "name": "python3"
  },
  "language_info": {
   "codemirror_mode": {
    "name": "ipython",
    "version": 3
   },
   "file_extension": ".py",
   "mimetype": "text/x-python",
   "name": "python",
   "nbconvert_exporter": "python",
   "pygments_lexer": "ipython3",
   "version": "3.6.10"
  }
 },
 "nbformat": 4,
 "nbformat_minor": 2
}
